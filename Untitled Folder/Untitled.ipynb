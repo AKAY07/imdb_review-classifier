{
 "cells": [
  {
   "cell_type": "code",
   "execution_count": 2,
   "metadata": {},
   "outputs": [
    {
     "name": "stdout",
     "output_type": "stream",
     "text": [
      "2.1.0\n"
     ]
    }
   ],
   "source": [
    "import tensorflow as tf \n",
    "print(tf.__version__)\n",
    "#tf.enable_eager_execution()"
   ]
  },
  {
   "cell_type": "code",
   "execution_count": 3,
   "metadata": {},
   "outputs": [
    {
     "name": "stderr",
     "output_type": "stream",
     "text": [
      "WARNING:absl:Warning: Setting shuffle_files=True because split=TRAIN and shuffle_files=None. This behavior will be deprecated on 2019-08-06, at which point shuffle_files=False will be the default for all splits.\n"
     ]
    }
   ],
   "source": [
    "import tensorflow_datasets as tfds\n",
    "imdb,info=tfds.load(\"imdb_reviews\",with_info=True,as_supervised=True)"
   ]
  },
  {
   "cell_type": "code",
   "execution_count": 33,
   "metadata": {},
   "outputs": [
    {
     "name": "stdout",
     "output_type": "stream",
     "text": [
      "[1 0 1 ... 0 1 0]\n"
     ]
    }
   ],
   "source": [
    "import numpy as np \n",
    "train_data,test_data=imdb['train'],imdb['test']\n",
    "training_sentences=[]\n",
    "training_labels=[]\n",
    "testing_sentences=[]\n",
    "testing_labels=[]\n",
    "for s,l in train_data:\n",
    "    training_sentences.append(str(s.numpy()))\n",
    "    training_labels.append(l.numpy())\n",
    "for s,l in test_data:\n",
    "    testing_sentences.append(str(s.numpy()))\n",
    "    testing_labels.append(l.numpy())\n",
    "    \n",
    "training_labels_final=np.array(training_labels)\n",
    "testing_labels_final=np.array(testing_labels)\n",
    "\n",
    "\n",
    "print(training_labels_final)\n",
    "\n",
    "    "
   ]
  },
  {
   "cell_type": "code",
   "execution_count": 34,
   "metadata": {},
   "outputs": [],
   "source": [
    "vocab_size=10000\n",
    "embedding_dim=16\n",
    "max_length=120\n",
    "trunc_type='post'\n",
    "oov_tok=\"<00V>\"\n",
    "\n",
    "from tensorflow.keras.preprocessing.text import Tokenizer\n",
    "from tensorflow.keras.preprocessing.sequence import pad_sequences\n",
    "\n",
    "tokenizer=Tokenizer(num_words=vocab_size,oov_token=oov_tok)\n",
    "tokenizer.fit_on_texts(training_sentences)\n",
    "word_index=tokenizer.word_index\n",
    "sequences=tokenizer.texts_to_sequences(training_sentences)\n",
    "padded=pad_sequences(sequences,maxlen=max_length,truncating=trunc_type)\n",
    "\n",
    "testing_sequences=tokenizer.texts_to_sequences(testing_sentences)\n",
    "testing_padded=pad_sequences(testing_sequences,maxlen=max_length)\n",
    "\n"
   ]
  },
  {
   "cell_type": "code",
   "execution_count": 35,
   "metadata": {
    "scrolled": true
   },
   "outputs": [
    {
     "name": "stdout",
     "output_type": "stream",
     "text": [
      "b this is the most depressing film i have ever seen i first saw it as a child and even thinking about it now really <00V> me i know it was set in a time when life was hard and i know these people were poor and the <00V> were vital yes i get all that what i find hard to take is i can't remember one single light moment in the entire film maybe it was true to life i don't know i'm quite sure the acting was top notch and the direction and quality of filming etc etc was wonderful and i know that every film can't have a happy ending but as a family film it is\n",
      "b\"This is the most depressing film I have ever seen. I first saw it as a child and even thinking about it now really upsets me. I know it was set in a time when life was hard and I know these people were poor and the crops were vital. Yes, I get all that. What I find hard to take is I can't remember one single light moment in the entire film. Maybe it was true to life, I don't know. I'm quite sure the acting was top notch and the direction and quality of filming etc etc was wonderful and I know that every film can't have a happy ending but as a family film it is dire in my opinion.<br /><br />I wouldn't recommend it to anyone who wants to be entertained by a film. I can't stress enough how this film affected me as a child. I was talking about it recently and all the sad memories came flooding back. I think it would have all but the heartless reaching for the Prozac.\"\n"
     ]
    }
   ],
   "source": [
    "reverse_word_index=dict([(value,key)for(key,value)in word_index.items()])\n",
    "\n",
    "def decode_review(text):\n",
    "    return ' '.join([reverse_word_index.get(i,'?')for i in text])\n",
    "print(decode_review(padded[1]))\n",
    "print(training_sentences[1])\n"
   ]
  },
  {
   "cell_type": "code",
   "execution_count": 36,
   "metadata": {},
   "outputs": [
    {
     "name": "stdout",
     "output_type": "stream",
     "text": [
      "Model: \"sequential_3\"\n",
      "_________________________________________________________________\n",
      "Layer (type)                 Output Shape              Param #   \n",
      "=================================================================\n",
      "embedding_4 (Embedding)      (None, 120, 16)           160000    \n",
      "_________________________________________________________________\n",
      "flatten_3 (Flatten)          (None, 1920)              0         \n",
      "_________________________________________________________________\n",
      "dense_6 (Dense)              (None, 6)                 11526     \n",
      "_________________________________________________________________\n",
      "dense_7 (Dense)              (None, 1)                 7         \n",
      "=================================================================\n",
      "Total params: 171,533\n",
      "Trainable params: 171,533\n",
      "Non-trainable params: 0\n",
      "_________________________________________________________________\n"
     ]
    }
   ],
   "source": [
    "model=tf.keras.Sequential([\n",
    "    tf.keras.layers.Embedding(vocab_size,embedding_dim,input_length=max_length),\n",
    "    tf.keras.layers.Flatten(),\n",
    "    tf.keras.layers.Dense(6,activation='relu'),\n",
    "    tf.keras.layers.Dense(1,activation='sigmoid')\n",
    "    \n",
    "])\n",
    "\n",
    "model.compile(loss='binary_crossentropy',optimizer='adam',metrics=['accuracy'])\n",
    "model.summary()"
   ]
  },
  {
   "cell_type": "code",
   "execution_count": 37,
   "metadata": {},
   "outputs": [
    {
     "name": "stdout",
     "output_type": "stream",
     "text": [
      "Train on 25000 samples, validate on 25000 samples\n",
      "Epoch 1/10\n",
      "25000/25000 [==============================] - 4s 178us/sample - loss: 0.4808 - accuracy: 0.7578 - val_loss: 0.3507 - val_accuracy: 0.8439\n",
      "Epoch 2/10\n",
      "25000/25000 [==============================] - 3s 140us/sample - loss: 0.2307 - accuracy: 0.9118 - val_loss: 0.3810 - val_accuracy: 0.8341\n",
      "Epoch 3/10\n",
      "25000/25000 [==============================] - 3s 140us/sample - loss: 0.0833 - accuracy: 0.9790 - val_loss: 0.4539 - val_accuracy: 0.8264\n",
      "Epoch 4/10\n",
      "25000/25000 [==============================] - 4s 142us/sample - loss: 0.0201 - accuracy: 0.9970 - val_loss: 0.5347 - val_accuracy: 0.8251\n",
      "Epoch 5/10\n",
      "25000/25000 [==============================] - 4s 154us/sample - loss: 0.0050 - accuracy: 0.9997 - val_loss: 0.5895 - val_accuracy: 0.8259\n",
      "Epoch 6/10\n",
      "25000/25000 [==============================] - 4s 142us/sample - loss: 0.0016 - accuracy: 1.0000 - val_loss: 0.6369 - val_accuracy: 0.8274\n",
      "Epoch 7/10\n",
      "25000/25000 [==============================] - 4s 142us/sample - loss: 7.6891e-04 - accuracy: 1.0000 - val_loss: 0.6768 - val_accuracy: 0.8279\n",
      "Epoch 8/10\n",
      "25000/25000 [==============================] - 4s 141us/sample - loss: 4.3024e-04 - accuracy: 1.0000 - val_loss: 0.7155 - val_accuracy: 0.8275\n",
      "Epoch 9/10\n",
      "25000/25000 [==============================] - 4s 146us/sample - loss: 2.5282e-04 - accuracy: 1.0000 - val_loss: 0.7506 - val_accuracy: 0.8283\n",
      "Epoch 10/10\n",
      "25000/25000 [==============================] - 4s 154us/sample - loss: 1.5363e-04 - accuracy: 1.0000 - val_loss: 0.7860 - val_accuracy: 0.8278\n"
     ]
    },
    {
     "data": {
      "text/plain": [
       "<tensorflow.python.keras.callbacks.History at 0x1efb0031b08>"
      ]
     },
     "execution_count": 37,
     "metadata": {},
     "output_type": "execute_result"
    }
   ],
   "source": [
    "Max_epochs=10\n",
    "model.fit(padded,training_labels_final,epochs=Max_epochs,validation_data=(testing_padded,testing_labels_final))"
   ]
  },
  {
   "cell_type": "code",
   "execution_count": 41,
   "metadata": {},
   "outputs": [],
   "source": [
    "e=model.layers[0]\n",
    "weights=e.get_weights()[0]\n",
    "\n",
    "\n",
    "\n",
    "import io \n",
    "out_v=io.open('vecs.tsv','w',encoding='utf-8')\n",
    "out_m=io.open('meta.tsv','w',encoding='utf-8')\n",
    "\n",
    "for word_num in range(1,vocab_size):\n",
    "    word=reverse_word_index[word_num]\n",
    "    embeddings=weights[word_num]\n",
    "    out_m.write(word+\"\\n\")\n",
    "    out_v.write('\\t'.join([str(x) for x in embeddings])+'\\n')\n",
    "out_v.close()\n",
    "out_m.close()"
   ]
  },
  {
   "cell_type": "code",
   "execution_count": null,
   "metadata": {},
   "outputs": [],
   "source": []
  }
 ],
 "metadata": {
  "kernelspec": {
   "display_name": "Python 3",
   "language": "python",
   "name": "python3"
  },
  "language_info": {
   "codemirror_mode": {
    "name": "ipython",
    "version": 3
   },
   "file_extension": ".py",
   "mimetype": "text/x-python",
   "name": "python",
   "nbconvert_exporter": "python",
   "pygments_lexer": "ipython3",
   "version": "3.7.7"
  }
 },
 "nbformat": 4,
 "nbformat_minor": 4
}
